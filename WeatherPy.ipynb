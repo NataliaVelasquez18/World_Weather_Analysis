{
 "cells": [
  {
   "cell_type": "code",
   "execution_count": 2,
   "metadata": {},
   "outputs": [],
   "source": [
    "# Import the dependencies.\n",
    "import pandas as pd\n",
    "import matplotlib.pyplot as plt\n",
    "import numpy as np"
   ]
  },
  {
   "cell_type": "code",
   "execution_count": 3,
   "metadata": {},
   "outputs": [
    {
     "data": {
      "text/plain": [
       "<zip at 0x7fa9541c09b0>"
      ]
     },
     "execution_count": 3,
     "metadata": {},
     "output_type": "execute_result"
    }
   ],
   "source": [
    "# Create a set of random latitude and longitude combinations.\n",
    "#The zip object packs each pair of lats and lngs having the same index in their respective array into a tuple. If there are 1,500 latitudes and longitudes, there will be 1,500 tuples of paired latitudes and longitudes, where each latitude and longitude in a tuple can be accessed by the index of 0 and 1, respectively.\n",
    "lats = np.random.uniform(low=-90.000, high=90.000, size=100)\n",
    "lngs = np.random.uniform(low=-180.000, high=180.000, size=100)\n",
    "lat_lngs = zip(lats, lngs)\n",
    "lat_lngs"
   ]
  },
  {
   "cell_type": "code",
   "execution_count": 4,
   "metadata": {},
   "outputs": [],
   "source": [
    "#Next, let's unpack our lat_lngs zip object into a list. This way, we only need to create a set of random latitudes and longitudes once. \n",
    "# Add the latitudes and longitudes to a list.\n",
    "#You can only unzip a zipped tuple once before it is removed from the computer's memory. Make sure you unzip the latitudes and longitudes into the coordinates list before moving on.\n",
    "coordinates = list(lat_lngs)"
   ]
  },
  {
   "cell_type": "code",
   "execution_count": null,
   "metadata": {},
   "outputs": [],
   "source": []
  },
  {
   "cell_type": "code",
   "execution_count": null,
   "metadata": {},
   "outputs": [],
   "source": []
  },
  {
   "cell_type": "code",
   "execution_count": null,
   "metadata": {},
   "outputs": [],
   "source": []
  },
  {
   "cell_type": "code",
   "execution_count": null,
   "metadata": {},
   "outputs": [],
   "source": []
  },
  {
   "cell_type": "code",
   "execution_count": null,
   "metadata": {},
   "outputs": [],
   "source": []
  },
  {
   "cell_type": "code",
   "execution_count": null,
   "metadata": {},
   "outputs": [],
   "source": []
  },
  {
   "cell_type": "code",
   "execution_count": null,
   "metadata": {},
   "outputs": [],
   "source": []
  },
  {
   "cell_type": "code",
   "execution_count": 5,
   "metadata": {},
   "outputs": [],
   "source": [
    "# Use the citipy module to determine city based on latitude and longitude.\n",
    "from citipy import citipy"
   ]
  },
  {
   "cell_type": "code",
   "execution_count": 6,
   "metadata": {},
   "outputs": [
    {
     "data": {
      "text/plain": [
       "84"
      ]
     },
     "execution_count": 6,
     "metadata": {},
     "output_type": "execute_result"
    }
   ],
   "source": [
    "# Create a list for holding the cities.\n",
    "cities = []\n",
    "# Identify the nearest city for each latitude and longitude combination.\n",
    "for coordinate in coordinates:\n",
    "    city = citipy.nearest_city(coordinate[0], coordinate[1]).city_name\n",
    "    \n",
    "    # If the city is unique, then we will add it to the cities list.\n",
    "    if city not in cities:\n",
    "        cities.append(city)\n",
    "        \n",
    "# Print the city count to confirm sufficient count.\n",
    "len(cities)"
   ]
  },
  {
   "cell_type": "code",
   "execution_count": 7,
   "metadata": {},
   "outputs": [],
   "source": [
    "# Import the requests library.\n",
    "import requests\n",
    "\n",
    "# Import the API key.\n",
    "from config import weather_api_key"
   ]
  },
  {
   "cell_type": "code",
   "execution_count": 8,
   "metadata": {},
   "outputs": [],
   "source": [
    "# Starting URL for Weather Map API Call.\n",
    "url = \"http://api.openweathermap.org/data/2.5/weather?units=Imperial&APPID=\" + weather_api_key"
   ]
  },
  {
   "cell_type": "code",
   "execution_count": null,
   "metadata": {},
   "outputs": [],
   "source": []
  },
  {
   "cell_type": "code",
   "execution_count": null,
   "metadata": {},
   "outputs": [],
   "source": []
  },
  {
   "cell_type": "code",
   "execution_count": null,
   "metadata": {},
   "outputs": [],
   "source": []
  },
  {
   "cell_type": "code",
   "execution_count": null,
   "metadata": {},
   "outputs": [],
   "source": []
  },
  {
   "cell_type": "code",
   "execution_count": null,
   "metadata": {},
   "outputs": [],
   "source": []
  },
  {
   "cell_type": "code",
   "execution_count": 9,
   "metadata": {},
   "outputs": [],
   "source": [
    "#Let's use pseudocode to map out, at a high level, how we will get the weather data for each city for the website.\n",
    "\n",
    "#We will need to do the following:\n",
    "\n",
    "#Import our dependencies and initialize counters and an empty list that will hold the weather data.\n",
    "#Loop through the cities list.\n",
    "#Group the cities in sets of 50 to log the process as we find the weather data for each city.\n",
    "#Two counters will be needed here: one to log the city count from 1 to 50, and another for the sets.\n",
    "#Build the city_url or endpoint for each city.\n",
    "#Log the URL and the record and set numbers.\n",
    "#Make an API request for each city.\n",
    "#Parse the JSON weather data for the following:\n",
    "#City, country, and date\n",
    "##Latitude and longitude\n",
    "#Maximum temperature\n",
    "#Humidity\n",
    "#Cloudiness\n",
    "#Wind speed\n",
    "#Add the data to a list in a dictionary format and then convert the list to a DataFrame.\n",
    "#Import Dependencies, and Initialize an Empty List and Counters\n",
    "#At the top of our code block, we are going to declare an empty list, city_data = []; add a print statement that references the beginning of the logging; and create counters for the record numbers, 1–50; and the set counter.\n",
    "\n",
    "#We will now work in our WeatherPy.ipynb file. Before continuing, make sure the following tasks are completed:\n",
    "\n",
    "#Import your Requests Library and the weather_api_key.\n",
    "#Build the basic URL for the OpenWeatherMap with your weather_api_key added to the URL."
   ]
  },
  {
   "cell_type": "code",
   "execution_count": 10,
   "metadata": {},
   "outputs": [],
   "source": [
    "# Import the datetime module from the datetime library.\n",
    "from datetime import datetime"
   ]
  },
  {
   "cell_type": "code",
   "execution_count": 11,
   "metadata": {},
   "outputs": [
    {
     "name": "stdout",
     "output_type": "stream",
     "text": [
      "Beginning Data Retrieval     \n",
      "-----------------------------\n"
     ]
    }
   ],
   "source": [
    "# Create an empty list to hold the weather data.\n",
    "city_data = []\n",
    "# Print the beginning of the logging.\n",
    "print(\"Beginning Data Retrieval     \")\n",
    "print(\"-----------------------------\")\n",
    "# Create counters.\n",
    "record_count = 1\n",
    "set_count = 1\n",
    "#In the code block, we have initialized the counters at 1 because we want the first iteration of the logging for each recorded response and the set to start at 1."
   ]
  },
  {
   "cell_type": "code",
   "execution_count": 12,
   "metadata": {},
   "outputs": [],
   "source": [
    "# Loop through all the cities in our list.\n",
    "for i in range(len(cities)):\n",
    "\n",
    "    # Group cities in sets of 50 for logging purposes.\n",
    "    if (i % 50 == 0 and i >= 50):\n",
    "        set_count += 1\n",
    "        record_count = 1\n",
    "    # Create endpoint URL with each city.\n",
    "    city_url = url + \"&q=\" + cities[i]"
   ]
  },
  {
   "cell_type": "code",
   "execution_count": 13,
   "metadata": {},
   "outputs": [
    {
     "name": "stdout",
     "output_type": "stream",
     "text": [
      "Processing Record 1 of Set 2 | puerto ayora\n",
      "Processing Record 2 of Set 2 | kodiak\n",
      "Processing Record 3 of Set 2 | rikitea\n",
      "Processing Record 4 of Set 2 | kirya\n",
      "Processing Record 5 of Set 2 | richards bay\n",
      "Processing Record 6 of Set 2 | bodoco\n",
      "City not found. Skipping...\n",
      "Processing Record 7 of Set 2 | ushuaia\n",
      "Processing Record 8 of Set 2 | souillac\n",
      "Processing Record 9 of Set 2 | ucluelet\n",
      "Processing Record 10 of Set 2 | jurm\n",
      "Processing Record 11 of Set 2 | port elizabeth\n",
      "Processing Record 12 of Set 2 | balikpapan\n",
      "Processing Record 13 of Set 2 | srednekolymsk\n",
      "Processing Record 14 of Set 2 | new norfolk\n",
      "Processing Record 15 of Set 2 | pevek\n",
      "Processing Record 16 of Set 2 | warqla\n",
      "City not found. Skipping...\n",
      "Processing Record 17 of Set 2 | lafia\n",
      "Processing Record 18 of Set 2 | bluff\n",
      "Processing Record 19 of Set 2 | bambous virieux\n",
      "Processing Record 20 of Set 2 | chuy\n",
      "Processing Record 21 of Set 2 | yomou\n",
      "Processing Record 22 of Set 2 | longyearbyen\n",
      "Processing Record 23 of Set 2 | sumbe\n",
      "Processing Record 24 of Set 2 | georgetown\n",
      "Processing Record 25 of Set 2 | punta arenas\n",
      "Processing Record 26 of Set 2 | bethel\n",
      "Processing Record 27 of Set 2 | port alfred\n",
      "Processing Record 28 of Set 2 | torbay\n",
      "Processing Record 29 of Set 2 | adeje\n",
      "Processing Record 30 of Set 2 | manta\n",
      "Processing Record 31 of Set 2 | busselton\n",
      "Processing Record 32 of Set 2 | lovozero\n",
      "Processing Record 33 of Set 2 | pisco\n",
      "Processing Record 34 of Set 2 | carnarvon\n",
      "Processing Record 35 of Set 2 | attawapiskat\n",
      "City not found. Skipping...\n",
      "Processing Record 36 of Set 2 | bathsheba\n",
      "Processing Record 37 of Set 2 | penon blanco\n",
      "Processing Record 38 of Set 2 | arraial do cabo\n",
      "Processing Record 39 of Set 2 | acuna\n",
      "City not found. Skipping...\n",
      "Processing Record 40 of Set 2 | hithadhoo\n",
      "Processing Record 41 of Set 2 | atyashevo\n",
      "Processing Record 42 of Set 2 | leningradskiy\n",
      "Processing Record 43 of Set 2 | montale\n",
      "Processing Record 44 of Set 2 | kahului\n",
      "Processing Record 45 of Set 2 | ponta do sol\n",
      "Processing Record 46 of Set 2 | belushya guba\n",
      "City not found. Skipping...\n",
      "Processing Record 47 of Set 2 | east london\n",
      "Processing Record 48 of Set 2 | lyskovo\n",
      "Processing Record 49 of Set 2 | weinan\n",
      "Processing Record 50 of Set 2 | cidreira\n",
      "Processing Record 1 of Set 3 | samusu\n",
      "City not found. Skipping...\n",
      "Processing Record 2 of Set 3 | hilo\n",
      "Processing Record 3 of Set 3 | saint-philippe\n",
      "Processing Record 4 of Set 3 | khiri mat\n",
      "Processing Record 5 of Set 3 | albany\n",
      "Processing Record 6 of Set 3 | burnie\n",
      "Processing Record 7 of Set 3 | vaini\n",
      "Processing Record 8 of Set 3 | formoso do araguaia\n",
      "City not found. Skipping...\n",
      "Processing Record 9 of Set 3 | varberg\n",
      "Processing Record 10 of Set 3 | torquay\n",
      "Processing Record 11 of Set 3 | atuona\n",
      "Processing Record 12 of Set 3 | falkenberg\n",
      "Processing Record 13 of Set 3 | tabiauea\n",
      "City not found. Skipping...\n",
      "Processing Record 14 of Set 3 | kruisfontein\n",
      "Processing Record 15 of Set 3 | tailai\n",
      "Processing Record 16 of Set 3 | pinheiro\n",
      "Processing Record 17 of Set 3 | sampit\n",
      "Processing Record 18 of Set 3 | general bravo\n",
      "Processing Record 19 of Set 3 | waingapu\n",
      "Processing Record 20 of Set 3 | college\n",
      "Processing Record 21 of Set 3 | grindavik\n",
      "Processing Record 22 of Set 3 | cockburn town\n",
      "Processing Record 23 of Set 3 | taolanaro\n",
      "City not found. Skipping...\n",
      "Processing Record 24 of Set 3 | horodnytsya\n",
      "Processing Record 25 of Set 3 | tianpeng\n",
      "Processing Record 26 of Set 3 | cape town\n",
      "Processing Record 27 of Set 3 | mount isa\n",
      "Processing Record 28 of Set 3 | labrea\n",
      "Processing Record 29 of Set 3 | jamestown\n",
      "Processing Record 30 of Set 3 | zhaotong\n",
      "Processing Record 31 of Set 3 | rafsanjan\n",
      "Processing Record 32 of Set 3 | avarua\n",
      "Processing Record 33 of Set 3 | hanzhong\n",
      "Processing Record 34 of Set 3 | mataura\n",
      "-----------------------------\n",
      "Data Retrieval Complete      \n",
      "-----------------------------\n"
     ]
    }
   ],
   "source": [
    "#Every time we want to reference the city in our code, we need to use the indexing on the cities list. Unfortunately, this will cause programming errors when we are building the city_url because it adds the index, not the city name, to the city_url. To fix this issue, we need to create another for loop to get the city from the cities list.\n",
    "\n",
    "#Instead of using two for loops, we can use the enumerate() method as an alternative way to iterate through the list of cities and retrieve both the index, and the city from the list. The syntax for the enumerate() method is the following:\n",
    "\n",
    "# Loop through all the cities in the list.\n",
    "for i, city in enumerate(cities):\n",
    "\n",
    "    # Group cities in sets of 50 for logging purposes.\n",
    "    if (i % 50 == 0 and i >= 50):\n",
    "        set_count += 1\n",
    "        record_count = 1\n",
    "    # Create endpoint URL with each city.\n",
    "    city_url = url + \"&q=\" + city.replace(\" \",\"+\")\n",
    "\n",
    "    # Log the URL, record, and set numbers and the city.\n",
    "    print(f\"Processing Record {record_count} of Set {set_count} | {city}\")\n",
    "    # Add 1 to the record count.\n",
    "    record_count += 1\n",
    "# Run an API request for each of the cities.\n",
    "    try:\n",
    "        # Parse the JSON and retrieve data.\n",
    "        city_weather = requests.get(city_url).json()\n",
    "        # Parse out the needed data.\n",
    "        city_lat = city_weather[\"coord\"][\"lat\"]\n",
    "        city_lng = city_weather[\"coord\"][\"lon\"]\n",
    "        city_max_temp = city_weather[\"main\"][\"temp_max\"]\n",
    "        city_humidity = city_weather[\"main\"][\"humidity\"]\n",
    "        city_clouds = city_weather[\"clouds\"][\"all\"]\n",
    "        city_wind = city_weather[\"wind\"][\"speed\"]\n",
    "        city_country = city_weather[\"sys\"][\"country\"]\n",
    "        # Convert the date to ISO standard.\n",
    "        city_date = datetime.utcfromtimestamp(city_weather[\"dt\"]).strftime('%Y-%m-%d %H:%M:%S')\n",
    "        # Append the city information into city_data list.\n",
    "        city_data.append({\"City\": city.title(),\n",
    "                          \"Lat\": city_lat,\n",
    "                          \"Lng\": city_lng,\n",
    "                          \"Max Temp\": city_max_temp,\n",
    "                          \"Humidity\": city_humidity,\n",
    "                          \"Cloudiness\": city_clouds,\n",
    "                          \"Wind Speed\": city_wind,\n",
    "                          \"Country\": city_country,\n",
    "                          \"Date\": city_date})\n",
    "\n",
    "# If an error is experienced, skip the city.\n",
    "    except:\n",
    "        print(\"City not found. Skipping...\")\n",
    "        pass\n",
    "\n",
    "# Indicate that Data Loading is complete.\n",
    "print(\"-----------------------------\")\n",
    "print(\"Data Retrieval Complete      \")\n",
    "print(\"-----------------------------\")"
   ]
  },
  {
   "cell_type": "code",
   "execution_count": 14,
   "metadata": {},
   "outputs": [
    {
     "data": {
      "text/html": [
       "<div>\n",
       "<style scoped>\n",
       "    .dataframe tbody tr th:only-of-type {\n",
       "        vertical-align: middle;\n",
       "    }\n",
       "\n",
       "    .dataframe tbody tr th {\n",
       "        vertical-align: top;\n",
       "    }\n",
       "\n",
       "    .dataframe thead th {\n",
       "        text-align: right;\n",
       "    }\n",
       "</style>\n",
       "<table border=\"1\" class=\"dataframe\">\n",
       "  <thead>\n",
       "    <tr style=\"text-align: right;\">\n",
       "      <th></th>\n",
       "      <th>City</th>\n",
       "      <th>Lat</th>\n",
       "      <th>Lng</th>\n",
       "      <th>Max Temp</th>\n",
       "      <th>Humidity</th>\n",
       "      <th>Cloudiness</th>\n",
       "      <th>Wind Speed</th>\n",
       "      <th>Country</th>\n",
       "      <th>Date</th>\n",
       "    </tr>\n",
       "  </thead>\n",
       "  <tbody>\n",
       "    <tr>\n",
       "      <th>0</th>\n",
       "      <td>Puerto Ayora</td>\n",
       "      <td>-0.7393</td>\n",
       "      <td>-90.3518</td>\n",
       "      <td>75.00</td>\n",
       "      <td>93</td>\n",
       "      <td>100</td>\n",
       "      <td>1.99</td>\n",
       "      <td>EC</td>\n",
       "      <td>2021-01-13 02:27:24</td>\n",
       "    </tr>\n",
       "    <tr>\n",
       "      <th>1</th>\n",
       "      <td>Kodiak</td>\n",
       "      <td>57.7900</td>\n",
       "      <td>-152.4072</td>\n",
       "      <td>33.80</td>\n",
       "      <td>93</td>\n",
       "      <td>90</td>\n",
       "      <td>10.04</td>\n",
       "      <td>US</td>\n",
       "      <td>2021-01-13 02:23:57</td>\n",
       "    </tr>\n",
       "    <tr>\n",
       "      <th>2</th>\n",
       "      <td>Rikitea</td>\n",
       "      <td>-23.1203</td>\n",
       "      <td>-134.9692</td>\n",
       "      <td>77.99</td>\n",
       "      <td>78</td>\n",
       "      <td>3</td>\n",
       "      <td>16.73</td>\n",
       "      <td>PF</td>\n",
       "      <td>2021-01-13 02:27:24</td>\n",
       "    </tr>\n",
       "    <tr>\n",
       "      <th>3</th>\n",
       "      <td>Kirya</td>\n",
       "      <td>-3.9167</td>\n",
       "      <td>37.4833</td>\n",
       "      <td>69.06</td>\n",
       "      <td>80</td>\n",
       "      <td>78</td>\n",
       "      <td>3.53</td>\n",
       "      <td>TZ</td>\n",
       "      <td>2021-01-13 02:27:24</td>\n",
       "    </tr>\n",
       "    <tr>\n",
       "      <th>4</th>\n",
       "      <td>Richards Bay</td>\n",
       "      <td>-28.7830</td>\n",
       "      <td>32.0377</td>\n",
       "      <td>71.96</td>\n",
       "      <td>89</td>\n",
       "      <td>0</td>\n",
       "      <td>4.85</td>\n",
       "      <td>ZA</td>\n",
       "      <td>2021-01-13 02:26:40</td>\n",
       "    </tr>\n",
       "    <tr>\n",
       "      <th>5</th>\n",
       "      <td>Ushuaia</td>\n",
       "      <td>-54.8000</td>\n",
       "      <td>-68.3000</td>\n",
       "      <td>46.40</td>\n",
       "      <td>61</td>\n",
       "      <td>20</td>\n",
       "      <td>14.97</td>\n",
       "      <td>AR</td>\n",
       "      <td>2021-01-13 02:22:45</td>\n",
       "    </tr>\n",
       "    <tr>\n",
       "      <th>6</th>\n",
       "      <td>Souillac</td>\n",
       "      <td>-20.5167</td>\n",
       "      <td>57.5167</td>\n",
       "      <td>77.00</td>\n",
       "      <td>88</td>\n",
       "      <td>75</td>\n",
       "      <td>12.66</td>\n",
       "      <td>MU</td>\n",
       "      <td>2021-01-13 02:26:29</td>\n",
       "    </tr>\n",
       "    <tr>\n",
       "      <th>7</th>\n",
       "      <td>Ucluelet</td>\n",
       "      <td>48.9329</td>\n",
       "      <td>-125.5528</td>\n",
       "      <td>46.00</td>\n",
       "      <td>100</td>\n",
       "      <td>90</td>\n",
       "      <td>5.75</td>\n",
       "      <td>CA</td>\n",
       "      <td>2021-01-13 02:27:25</td>\n",
       "    </tr>\n",
       "    <tr>\n",
       "      <th>8</th>\n",
       "      <td>Jurm</td>\n",
       "      <td>36.8648</td>\n",
       "      <td>70.8342</td>\n",
       "      <td>31.84</td>\n",
       "      <td>50</td>\n",
       "      <td>0</td>\n",
       "      <td>6.42</td>\n",
       "      <td>AF</td>\n",
       "      <td>2021-01-13 02:27:25</td>\n",
       "    </tr>\n",
       "    <tr>\n",
       "      <th>9</th>\n",
       "      <td>Port Elizabeth</td>\n",
       "      <td>-33.9180</td>\n",
       "      <td>25.5701</td>\n",
       "      <td>69.80</td>\n",
       "      <td>88</td>\n",
       "      <td>90</td>\n",
       "      <td>6.91</td>\n",
       "      <td>ZA</td>\n",
       "      <td>2021-01-13 02:27:25</td>\n",
       "    </tr>\n",
       "  </tbody>\n",
       "</table>\n",
       "</div>"
      ],
      "text/plain": [
       "             City      Lat       Lng  Max Temp  Humidity  Cloudiness  \\\n",
       "0    Puerto Ayora  -0.7393  -90.3518     75.00        93         100   \n",
       "1          Kodiak  57.7900 -152.4072     33.80        93          90   \n",
       "2         Rikitea -23.1203 -134.9692     77.99        78           3   \n",
       "3           Kirya  -3.9167   37.4833     69.06        80          78   \n",
       "4    Richards Bay -28.7830   32.0377     71.96        89           0   \n",
       "5         Ushuaia -54.8000  -68.3000     46.40        61          20   \n",
       "6        Souillac -20.5167   57.5167     77.00        88          75   \n",
       "7        Ucluelet  48.9329 -125.5528     46.00       100          90   \n",
       "8            Jurm  36.8648   70.8342     31.84        50           0   \n",
       "9  Port Elizabeth -33.9180   25.5701     69.80        88          90   \n",
       "\n",
       "   Wind Speed Country                 Date  \n",
       "0        1.99      EC  2021-01-13 02:27:24  \n",
       "1       10.04      US  2021-01-13 02:23:57  \n",
       "2       16.73      PF  2021-01-13 02:27:24  \n",
       "3        3.53      TZ  2021-01-13 02:27:24  \n",
       "4        4.85      ZA  2021-01-13 02:26:40  \n",
       "5       14.97      AR  2021-01-13 02:22:45  \n",
       "6       12.66      MU  2021-01-13 02:26:29  \n",
       "7        5.75      CA  2021-01-13 02:27:25  \n",
       "8        6.42      AF  2021-01-13 02:27:25  \n",
       "9        6.91      ZA  2021-01-13 02:27:25  "
      ]
     },
     "execution_count": 14,
     "metadata": {},
     "output_type": "execute_result"
    }
   ],
   "source": [
    "# Convert the array of dictionaries to a Pandas DataFrame.\n",
    "city_data_df = pd.DataFrame(city_data)\n",
    "city_data_df.head(10)"
   ]
  },
  {
   "cell_type": "code",
   "execution_count": 15,
   "metadata": {},
   "outputs": [
    {
     "data": {
      "text/html": [
       "<div>\n",
       "<style scoped>\n",
       "    .dataframe tbody tr th:only-of-type {\n",
       "        vertical-align: middle;\n",
       "    }\n",
       "\n",
       "    .dataframe tbody tr th {\n",
       "        vertical-align: top;\n",
       "    }\n",
       "\n",
       "    .dataframe thead th {\n",
       "        text-align: right;\n",
       "    }\n",
       "</style>\n",
       "<table border=\"1\" class=\"dataframe\">\n",
       "  <thead>\n",
       "    <tr style=\"text-align: right;\">\n",
       "      <th></th>\n",
       "      <th>City</th>\n",
       "      <th>Country</th>\n",
       "      <th>Date</th>\n",
       "      <th>Lat</th>\n",
       "      <th>Lng</th>\n",
       "      <th>Max Temp</th>\n",
       "      <th>Humidity</th>\n",
       "      <th>Cloudiness</th>\n",
       "      <th>Wind Speed</th>\n",
       "    </tr>\n",
       "  </thead>\n",
       "  <tbody>\n",
       "    <tr>\n",
       "      <th>0</th>\n",
       "      <td>Puerto Ayora</td>\n",
       "      <td>EC</td>\n",
       "      <td>2021-01-13 02:27:24</td>\n",
       "      <td>-0.7393</td>\n",
       "      <td>-90.3518</td>\n",
       "      <td>75.00</td>\n",
       "      <td>93</td>\n",
       "      <td>100</td>\n",
       "      <td>1.99</td>\n",
       "    </tr>\n",
       "    <tr>\n",
       "      <th>1</th>\n",
       "      <td>Kodiak</td>\n",
       "      <td>US</td>\n",
       "      <td>2021-01-13 02:23:57</td>\n",
       "      <td>57.7900</td>\n",
       "      <td>-152.4072</td>\n",
       "      <td>33.80</td>\n",
       "      <td>93</td>\n",
       "      <td>90</td>\n",
       "      <td>10.04</td>\n",
       "    </tr>\n",
       "    <tr>\n",
       "      <th>2</th>\n",
       "      <td>Rikitea</td>\n",
       "      <td>PF</td>\n",
       "      <td>2021-01-13 02:27:24</td>\n",
       "      <td>-23.1203</td>\n",
       "      <td>-134.9692</td>\n",
       "      <td>77.99</td>\n",
       "      <td>78</td>\n",
       "      <td>3</td>\n",
       "      <td>16.73</td>\n",
       "    </tr>\n",
       "    <tr>\n",
       "      <th>3</th>\n",
       "      <td>Kirya</td>\n",
       "      <td>TZ</td>\n",
       "      <td>2021-01-13 02:27:24</td>\n",
       "      <td>-3.9167</td>\n",
       "      <td>37.4833</td>\n",
       "      <td>69.06</td>\n",
       "      <td>80</td>\n",
       "      <td>78</td>\n",
       "      <td>3.53</td>\n",
       "    </tr>\n",
       "    <tr>\n",
       "      <th>4</th>\n",
       "      <td>Richards Bay</td>\n",
       "      <td>ZA</td>\n",
       "      <td>2021-01-13 02:26:40</td>\n",
       "      <td>-28.7830</td>\n",
       "      <td>32.0377</td>\n",
       "      <td>71.96</td>\n",
       "      <td>89</td>\n",
       "      <td>0</td>\n",
       "      <td>4.85</td>\n",
       "    </tr>\n",
       "    <tr>\n",
       "      <th>5</th>\n",
       "      <td>Ushuaia</td>\n",
       "      <td>AR</td>\n",
       "      <td>2021-01-13 02:22:45</td>\n",
       "      <td>-54.8000</td>\n",
       "      <td>-68.3000</td>\n",
       "      <td>46.40</td>\n",
       "      <td>61</td>\n",
       "      <td>20</td>\n",
       "      <td>14.97</td>\n",
       "    </tr>\n",
       "    <tr>\n",
       "      <th>6</th>\n",
       "      <td>Souillac</td>\n",
       "      <td>MU</td>\n",
       "      <td>2021-01-13 02:26:29</td>\n",
       "      <td>-20.5167</td>\n",
       "      <td>57.5167</td>\n",
       "      <td>77.00</td>\n",
       "      <td>88</td>\n",
       "      <td>75</td>\n",
       "      <td>12.66</td>\n",
       "    </tr>\n",
       "    <tr>\n",
       "      <th>7</th>\n",
       "      <td>Ucluelet</td>\n",
       "      <td>CA</td>\n",
       "      <td>2021-01-13 02:27:25</td>\n",
       "      <td>48.9329</td>\n",
       "      <td>-125.5528</td>\n",
       "      <td>46.00</td>\n",
       "      <td>100</td>\n",
       "      <td>90</td>\n",
       "      <td>5.75</td>\n",
       "    </tr>\n",
       "    <tr>\n",
       "      <th>8</th>\n",
       "      <td>Jurm</td>\n",
       "      <td>AF</td>\n",
       "      <td>2021-01-13 02:27:25</td>\n",
       "      <td>36.8648</td>\n",
       "      <td>70.8342</td>\n",
       "      <td>31.84</td>\n",
       "      <td>50</td>\n",
       "      <td>0</td>\n",
       "      <td>6.42</td>\n",
       "    </tr>\n",
       "    <tr>\n",
       "      <th>9</th>\n",
       "      <td>Port Elizabeth</td>\n",
       "      <td>ZA</td>\n",
       "      <td>2021-01-13 02:27:25</td>\n",
       "      <td>-33.9180</td>\n",
       "      <td>25.5701</td>\n",
       "      <td>69.80</td>\n",
       "      <td>88</td>\n",
       "      <td>90</td>\n",
       "      <td>6.91</td>\n",
       "    </tr>\n",
       "  </tbody>\n",
       "</table>\n",
       "</div>"
      ],
      "text/plain": [
       "             City Country                 Date      Lat       Lng  Max Temp  \\\n",
       "0    Puerto Ayora      EC  2021-01-13 02:27:24  -0.7393  -90.3518     75.00   \n",
       "1          Kodiak      US  2021-01-13 02:23:57  57.7900 -152.4072     33.80   \n",
       "2         Rikitea      PF  2021-01-13 02:27:24 -23.1203 -134.9692     77.99   \n",
       "3           Kirya      TZ  2021-01-13 02:27:24  -3.9167   37.4833     69.06   \n",
       "4    Richards Bay      ZA  2021-01-13 02:26:40 -28.7830   32.0377     71.96   \n",
       "5         Ushuaia      AR  2021-01-13 02:22:45 -54.8000  -68.3000     46.40   \n",
       "6        Souillac      MU  2021-01-13 02:26:29 -20.5167   57.5167     77.00   \n",
       "7        Ucluelet      CA  2021-01-13 02:27:25  48.9329 -125.5528     46.00   \n",
       "8            Jurm      AF  2021-01-13 02:27:25  36.8648   70.8342     31.84   \n",
       "9  Port Elizabeth      ZA  2021-01-13 02:27:25 -33.9180   25.5701     69.80   \n",
       "\n",
       "   Humidity  Cloudiness  Wind Speed  \n",
       "0        93         100        1.99  \n",
       "1        93          90       10.04  \n",
       "2        78           3       16.73  \n",
       "3        80          78        3.53  \n",
       "4        89           0        4.85  \n",
       "5        61          20       14.97  \n",
       "6        88          75       12.66  \n",
       "7       100          90        5.75  \n",
       "8        50           0        6.42  \n",
       "9        88          90        6.91  "
      ]
     },
     "execution_count": 15,
     "metadata": {},
     "output_type": "execute_result"
    }
   ],
   "source": [
    "#Reorder columns\n",
    "city_data_df = city_data_df[[\"City\", \"Country\", \"Date\", \"Lat\", \"Lng\", \"Max Temp\", \"Humidity\", \"Cloudiness\", \"Wind Speed\"]]\n",
    "city_data_df.head(10)"
   ]
  },
  {
   "cell_type": "code",
   "execution_count": 16,
   "metadata": {},
   "outputs": [],
   "source": [
    "# Create the output file (CSV).\n",
    "output_data_file = \"weather_data./cities.csv\"\n",
    "# Export the City_Data into a CSV.\n",
    "city_data_df.to_csv(output_data_file, index_label=\"City_ID\")"
   ]
  },
  {
   "cell_type": "code",
   "execution_count": 17,
   "metadata": {},
   "outputs": [],
   "source": [
    "#Get Data for Plotting\n",
    "# Extract relevant fields from the DataFrame for plotting.\n",
    "lats = city_data_df[\"Lat\"]\n",
    "max_temps = city_data_df[\"Max Temp\"]\n",
    "humidity = city_data_df[\"Humidity\"]\n",
    "cloudiness = city_data_df[\"Cloudiness\"]\n",
    "wind_speed = city_data_df[\"Wind Speed\"]"
   ]
  },
  {
   "cell_type": "code",
   "execution_count": 18,
   "metadata": {},
   "outputs": [
    {
     "data": {
      "text/plain": [
       "1610504870.870036"
      ]
     },
     "execution_count": 18,
     "metadata": {},
     "output_type": "execute_result"
    }
   ],
   "source": [
    "# Import the time module.\n",
    "import time\n",
    "# Get today's date in seconds.\n",
    "today = time.time()\n",
    "today"
   ]
  },
  {
   "cell_type": "code",
   "execution_count": 20,
   "metadata": {},
   "outputs": [
    {
     "data": {
      "image/png": "[encoded data removed]",
      "text/plain": [
       "<Figure size 432x288 with 1 Axes>"
      ]
     },
     "metadata": {
      "needs_background": "light"
     },
     "output_type": "display_data"
    }
   ],
   "source": [
    "# Import time module\n",
    "import time\n",
    "\n",
    "# Build the scatter plot for latitude vs. max temperature.\n",
    "plt.scatter(lats,\n",
    "            max_temps,\n",
    "            edgecolor=\"black\", linewidths=1, marker=\"o\",\n",
    "            alpha=0.8, label=\"Cities\")\n",
    "\n",
    "# Incorporate the other graph properties.\n",
    "plt.title(f\"City Latitude vs. Max Temperature \"+ time.strftime(\"%x\"))\n",
    "plt.ylabel(\"Max Temperature (F)\")\n",
    "plt.xlabel(\"Latitude\")\n",
    "plt.grid(True)\n",
    "\n",
    "# Save the figure.\n",
    "plt.savefig(\"weather_data./Fig1.png\")\n",
    "\n",
    "# Show plot.\n",
    "plt.show()"
   ]
  },
  {
   "cell_type": "code",
   "execution_count": 21,
   "metadata": {},
   "outputs": [
    {
     "data": {
      "image/png": "[encoded data removed]",
      "text/plain": [
       "<Figure size 432x288 with 1 Axes>"
      ]
     },
     "metadata": {
      "needs_background": "light"
     },
     "output_type": "display_data"
    }
   ],
   "source": [
    "# Build the scatter plots for latitude vs. humidity.\n",
    "plt.scatter(lats,\n",
    "            humidity,\n",
    "            edgecolor=\"black\", linewidths=1, marker=\"o\",\n",
    "            alpha=0.8, label=\"Cities\")\n",
    "\n",
    "# Incorporate the other graph properties.\n",
    "plt.title(f\"City Latitude vs. Humidity \"+ time.strftime(\"%x\"))\n",
    "plt.ylabel(\"Humidity (%)\")\n",
    "plt.xlabel(\"Latitude\")\n",
    "plt.grid(True)\n",
    "# Save the figure.\n",
    "plt.savefig(\"weather_data./Fig2.png\")\n",
    "# Show plot.\n",
    "plt.show()"
   ]
  },
  {
   "cell_type": "code",
   "execution_count": 22,
   "metadata": {},
   "outputs": [
    {
     "data": {
      "image/png": "[encoded data removed]",
      "text/plain": [
       "<Figure size 432x288 with 1 Axes>"
      ]
     },
     "metadata": {
      "needs_background": "light"
     },
     "output_type": "display_data"
    }
   ],
   "source": [
    "# Build the scatter plots for latitude vs. cloudiness.\n",
    "plt.scatter(lats,\n",
    "            cloudiness,\n",
    "            edgecolor=\"black\", linewidths=1, marker=\"o\",\n",
    "            alpha=0.8, label=\"Cities\")\n",
    "\n",
    "# Incorporate the other graph properties.\n",
    "plt.title(f\"City Latitude vs. Cloudiness (%) \"+ time.strftime(\"%x\"))\n",
    "plt.ylabel(\"Cloudiness (%)\")\n",
    "plt.xlabel(\"Latitude\")\n",
    "plt.grid(True)\n",
    "# Save the figure.\n",
    "plt.savefig(\"weather_data./Fig3.png\")\n",
    "# Show plot.\n",
    "plt.show()"
   ]
  },
  {
   "cell_type": "code",
   "execution_count": 23,
   "metadata": {},
   "outputs": [
    {
     "data": {
      "image/png": "[encoded data removed]",
      "text/plain": [
       "<Figure size 432x288 with 1 Axes>"
      ]
     },
     "metadata": {
      "needs_background": "light"
     },
     "output_type": "display_data"
    }
   ],
   "source": [
    "# Build the scatter plots for latitude vs. wind speed.\n",
    "plt.scatter(lats,\n",
    "            wind_speed,\n",
    "            edgecolor=\"black\", linewidths=1, marker=\"o\",\n",
    "            alpha=0.8, label=\"Cities\")\n",
    "\n",
    "# Incorporate the other graph properties.\n",
    "plt.title(f\"City Latitude vs. Wind Speed \"+ time.strftime(\"%x\"))\n",
    "plt.ylabel(\"Wind Speed (mph)\")\n",
    "plt.xlabel(\"Latitude\")\n",
    "plt.grid(True)\n",
    "# Save the figure.\n",
    "plt.savefig(\"weather_data./Fig4.png\")\n",
    "# Show plot.\n",
    "plt.show()"
   ]
  },
  {
   "cell_type": "code",
   "execution_count": null,
   "metadata": {},
   "outputs": [],
   "source": []
  },
  {
   "cell_type": "code",
   "execution_count": null,
   "metadata": {},
   "outputs": [],
   "source": []
  },
  {
   "cell_type": "code",
   "execution_count": null,
   "metadata": {},
   "outputs": [],
   "source": []
  },
  {
   "cell_type": "code",
   "execution_count": null,
   "metadata": {},
   "outputs": [],
   "source": []
  },
  {
   "cell_type": "code",
   "execution_count": null,
   "metadata": {},
   "outputs": [],
   "source": []
  },
  {
   "cell_type": "code",
   "execution_count": null,
   "metadata": {},
   "outputs": [],
   "source": []
  },
  {
   "cell_type": "code",
   "execution_count": null,
   "metadata": {},
   "outputs": [],
   "source": []
  },
  {
   "cell_type": "code",
   "execution_count": null,
   "metadata": {},
   "outputs": [],
   "source": []
  }
 ],
 "metadata": {
  "kernelspec": {
   "display_name": "PythonData",
   "language": "python",
   "name": "pythondata"
  },
  "language_info": {
   "codemirror_mode": {
    "name": "ipython",
    "version": 3
   },
   "file_extension": ".py",
   "mimetype": "text/x-python",
   "name": "python",
   "nbconvert_exporter": "python",
   "pygments_lexer": "ipython3",
   "version": "3.7.9"
  }
 },
 "nbformat": 4,
 "nbformat_minor": 4
}
