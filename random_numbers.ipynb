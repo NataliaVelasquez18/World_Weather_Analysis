{
 "cells": [
  {
   "cell_type": "code",
   "execution_count": 2,
   "metadata": {},
   "outputs": [],
   "source": [
    "import random"
   ]
  },
  {
   "cell_type": "code",
   "execution_count": 7,
   "metadata": {},
   "outputs": [
    {
     "data": {
      "text/plain": [
       "[85.3548736957173,\n",
       " -85.02613022426158,\n",
       " -23.92629309733112,\n",
       " -1.0319649236766018,\n",
       " 12.985832495105495,\n",
       " -56.55616414428572,\n",
       " 14.870002065248697,\n",
       " -37.68446650243832,\n",
       " 14.228005267028934,\n",
       " 26.499266080196634]"
      ]
     },
     "execution_count": 7,
     "metadata": {},
     "output_type": "execute_result"
    }
   ],
   "source": [
    "x = 1\n",
    "latitudes = []\n",
    "while x < 11:\n",
    "    random_latitudes = random.randint(-90, 89) + random.random()\n",
    "    latitudes.append(random_latitudes)\n",
    "    x +=1\n",
    "latitudes"
   ]
  },
  {
   "cell_type": "code",
   "execution_count": 21,
   "metadata": {},
   "outputs": [
    {
     "data": {
      "text/plain": [
       "88"
      ]
     },
     "execution_count": 21,
     "metadata": {},
     "output_type": "execute_result"
    }
   ],
   "source": [
    "random.randrange(-90, 90, step=1)\n",
    "#do not get the step. ??"
   ]
  },
  {
   "cell_type": "code",
   "execution_count": 43,
   "metadata": {},
   "outputs": [
    {
     "data": {
      "text/plain": [
       "-30"
      ]
     },
     "execution_count": 43,
     "metadata": {},
     "output_type": "execute_result"
    }
   ],
   "source": [
    "random.randrange(-90, 90, step=3)"
   ]
  },
  {
   "cell_type": "code",
   "execution_count": 39,
   "metadata": {},
   "outputs": [
    {
     "data": {
      "text/plain": [
       "-8.171565899091519"
      ]
     },
     "execution_count": 39,
     "metadata": {},
     "output_type": "execute_result"
    }
   ],
   "source": [
    "random.uniform(-90, 90)"
   ]
  },
  {
   "cell_type": "code",
   "execution_count": 45,
   "metadata": {},
   "outputs": [],
   "source": [
    "#The NumPy and random Modules\n",
    "#One way to generate more than a thousand latitudes and longitudes is to chain the NumPy module to the random module \n",
    "#to create an array of latitudes or longitudes between the lowest and highest values, or –90° and 90°, and –180° and \n",
    "#180°, respectively. To accomplish this, we'll use the uniform() function from the random module.\n",
    "\n",
    "# Import the NumPy module.\n",
    "import numpy as np\n",
    "\n",
    "#The NumPy module has a built-in random module, and supplements the built-in Python random module. There is no need to import the random module if we import the NumPy module, as it's redundant."
   ]
  },
  {
   "cell_type": "code",
   "execution_count": 50,
   "metadata": {},
   "outputs": [
    {
     "data": {
      "text/plain": [
       "22.879668422486958"
      ]
     },
     "execution_count": 50,
     "metadata": {},
     "output_type": "execute_result"
    }
   ],
   "source": [
    "np.random.uniform(-90.000, 90.000)\n",
    "# to generate a floating-point decimal number between –90.000 and 90.000. Adding the zeros past the decimal places is optional."
   ]
  },
  {
   "cell_type": "code",
   "execution_count": 51,
   "metadata": {},
   "outputs": [
    {
     "data": {
      "text/plain": [
       "45.20720150623555"
      ]
     },
     "execution_count": 51,
     "metadata": {},
     "output_type": "execute_result"
    }
   ],
   "source": [
    "#another option to generate this is:\n",
    "np.random.uniform(low=-90, high=90)"
   ]
  },
  {
   "cell_type": "code",
   "execution_count": 52,
   "metadata": {},
   "outputs": [
    {
     "data": {
      "text/plain": [
       "array([ 42.52573227, -69.48347386,   9.68596144,   5.99081863,\n",
       "       -41.2533863 ,  52.24607394,  43.6452282 , -66.1035456 ,\n",
       "        70.1941778 , -16.59431025,  43.19277524,  45.85844991,\n",
       "       -50.84289863, -70.65229909,  30.871894  ,  86.23470093,\n",
       "       -12.31549214, -62.13631595, -76.77180232, -88.85559209,\n",
       "        -3.00494684, -84.79002716,  32.26814589, -23.67565832,\n",
       "       -68.1352647 ,  24.72381404,   6.51475693,  65.35223812,\n",
       "       -81.85831232, -86.00367073,  22.83632549,  61.94986805,\n",
       "       -73.30779905, -37.63337007,  89.41773303, -34.23135176,\n",
       "        78.12717741,  62.81963519,   5.07775984, -35.388696  ,\n",
       "       -73.18402838,  53.89095566, -18.89805804,  48.73068333,\n",
       "       -24.15920592,  -8.34920277, -83.33583753, -53.99035102,\n",
       "       -21.85952626,   7.15521811])"
      ]
     },
     "execution_count": 52,
     "metadata": {},
     "output_type": "execute_result"
    }
   ],
   "source": [
    "np.random.uniform(-90.000, 90.000, size=50)\n",
    "\n",
    "#The output is an array of 50 floating-point decimal numbers between –90.000 and 90.000."
   ]
  },
  {
   "cell_type": "code",
   "execution_count": 54,
   "metadata": {},
   "outputs": [
    {
     "name": "stdout",
     "output_type": "stream",
     "text": [
      "10.7 µs ± 74.4 ns per loop (mean ± std. dev. of 7 runs, 100000 loops each)\n"
     ]
    }
   ],
   "source": [
    "#Now we are getting somewhere–all we need to do is increase the parameter size to 1,500.\n",
    "#Is this method faster than creating a while loop like we did before? Let's test this for a size of 1,500.\n",
    "#To test how long a piece of code or function takes to run, we can import the \"timeit\" module and use the %timeit magic command when we run our code or call the function.\n",
    "# Import timeit.\n",
    "import timeit\n",
    "%timeit np.random.uniform(-90.000, 90.000, size=1500)\n",
    "#The output is the amount of time it took to run this code, which is an average of 10.7 microseconds."
   ]
  },
  {
   "cell_type": "code",
   "execution_count": null,
   "metadata": {},
   "outputs": [],
   "source": []
  },
  {
   "cell_type": "code",
   "execution_count": null,
   "metadata": {},
   "outputs": [],
   "source": []
  },
  {
   "cell_type": "code",
   "execution_count": null,
   "metadata": {},
   "outputs": [],
   "source": []
  },
  {
   "cell_type": "code",
   "execution_count": null,
   "metadata": {},
   "outputs": [],
   "source": []
  },
  {
   "cell_type": "code",
   "execution_count": null,
   "metadata": {},
   "outputs": [],
   "source": []
  },
  {
   "cell_type": "code",
   "execution_count": null,
   "metadata": {},
   "outputs": [],
   "source": []
  }
 ],
 "metadata": {
  "kernelspec": {
   "display_name": "PythonData",
   "language": "python",
   "name": "pythondata"
  },
  "language_info": {
   "codemirror_mode": {
    "name": "ipython",
    "version": 3
   },
   "file_extension": ".py",
   "mimetype": "text/x-python",
   "name": "python",
   "nbconvert_exporter": "python",
   "pygments_lexer": "ipython3",
   "version": "3.7.6"
  }
 },
 "nbformat": 4,
 "nbformat_minor": 4
}
